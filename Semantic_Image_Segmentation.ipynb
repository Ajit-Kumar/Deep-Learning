{
  "nbformat": 4,
  "nbformat_minor": 0,
  "metadata": {
    "colab": {
      "name": "Semantic_Image_Segmentation.ipynb",
      "provenance": [],
      "collapsed_sections": []
    },
    "kernelspec": {
      "name": "python3",
      "display_name": "Python 3"
    },
    "accelerator": "GPU"
  },
  "cells": [
    {
      "cell_type": "markdown",
      "metadata": {
        "id": "Xsg4ll33YaNj"
      },
      "source": [
        "## Connecting to google drive"
      ]
    },
    {
      "cell_type": "code",
      "metadata": {
        "id": "vj7gZFH8ZJqo"
      },
      "source": [
        "from google.colab import drive\n",
        "drive.mount('/content/drive')"
      ],
      "execution_count": null,
      "outputs": []
    },
    {
      "cell_type": "markdown",
      "metadata": {
        "id": "CL7vD3LtRdwU"
      },
      "source": [
        "## Importing Library"
      ]
    },
    {
      "cell_type": "code",
      "metadata": {
        "id": "r6_JX6JzZK5q",
        "outputId": "07bb1668-3c7d-42ce-80a1-3a370f2cf14f",
        "colab": {
          "base_uri": "https://localhost:8080/",
          "height": 35
        }
      },
      "source": [
        "import glob\n",
        "import matplotlib.pyplot as plt\n",
        "import matplotlib.image as mpimg\n",
        "import os\n",
        "import shutil\n",
        "import numpy as np\n",
        "import PIL\n",
        "from PIL import Image\n",
        "from PIL import ImageOps\n",
        "\n",
        "import tensorflow as tf\n",
        "print(tf.__version__)\n",
        "from tensorflow.python.keras.models import Sequential\n",
        "from tensorflow.python.keras.layers import Dense, Dropout, Activation, Flatten\n",
        "from tensorflow.python.keras.layers import Conv2D, MaxPool2D, BatchNormalization, Conv2DTranspose\n",
        "from tensorflow.keras.losses import CategoricalCrossentropy\n",
        "from keras.layers import UpSampling2D\n",
        "from tensorflow.keras.preprocessing.image import load_img\n",
        "from sklearn.model_selection import train_test_split\n",
        "\n",
        "from tensorflow.python.keras import layers\n",
        "from keras.models import Model"
      ],
      "execution_count": null,
      "outputs": [
        {
          "output_type": "stream",
          "text": [
            "2.3.0\n"
          ],
          "name": "stdout"
        }
      ]
    },
    {
      "cell_type": "code",
      "metadata": {
        "id": "zjLZmmyHFtez"
      },
      "source": [
        "# Importing the dataset in the above code using ‘glob’.\n",
        "\n",
        "NT = glob.glob(\"/content/drive/My Drive/Images/*T.png\") #path of normal tissue\n",
        "AM = glob.glob(\"/content/drive/My Drive/Images/*A.png\") #path annotated mask"
      ],
      "execution_count": null,
      "outputs": []
    },
    {
      "cell_type": "code",
      "metadata": {
        "id": "ABTlFGYXDLww"
      },
      "source": [
        "# Transferring the data to new folder Annotated Tissue\n",
        "# don't run it again \n",
        "# this is done to keep the name of annotated images and normal image same\n",
        "\n",
        "# base_dir = \"/content/drive/My Drive/Images\"\n",
        "# new_dir  = \"/content/drive/My Drive/Annotated Tissue/\"\n",
        "\n",
        "# for val in AM:\n",
        "#   a = val.split('/')[-1].split('.')[0][:-1] + '.png'\n",
        "#   src_file = os.path.join(base_dir,val.split('/')[-1])\n",
        "#   shutil.copy(src_file,new_dir)\n",
        "\n",
        "#   dst_file = os.path.join(new_dir,val.split('/')[-1])\n",
        "#   new_dst_file_name = os.path.join(new_dir, a)\n",
        "#   os.rename(dst_file,new_dst_file_name)\n"
      ],
      "execution_count": null,
      "outputs": []
    },
    {
      "cell_type": "code",
      "metadata": {
        "id": "7U8eoDJqH7jT"
      },
      "source": [
        "#Transferring the data to new folder Normal Tissue\n",
        "# don't run it again \n",
        "#this is done to keep the name of normal images and normal image same\n",
        "\n",
        "# new_dir  = \"/content/drive/My Drive/Normal Tissue/\"\n",
        "\n",
        "# for val in NT:\n",
        "#   a = val.split('/')[-1].split('.')[0][:-1] + '.png'\n",
        "#   src_file = os.path.join(base_dir,val.split('/')[-1])\n",
        "#   shutil.copy(src_file,new_dir)\n",
        "\n",
        "#   dst_file = os.path.join(new_dir,val.split('/')[-1])\n",
        "#   new_dst_file_name = os.path.join(new_dir, a)\n",
        "#   os.rename(dst_file,new_dst_file_name)"
      ],
      "execution_count": null,
      "outputs": []
    },
    {
      "cell_type": "markdown",
      "metadata": {
        "id": "n1fO5J9aSy8m"
      },
      "source": [
        "## **Download Data**"
      ]
    },
    {
      "cell_type": "code",
      "metadata": {
        "id": "7GZmbMjqYoVy"
      },
      "source": [
        "NT = glob.glob(\"/content/drive/My Drive/Normal Tissue/*.png\") #path of normal tissue\n",
        "AM = glob.glob(\"/content/drive/My Drive/Annotated Tissue/*.png\") #path annotated mask\n",
        "\n",
        "#function for getting the data\n",
        "def get_data(NT,AM):\n",
        "\n",
        "  '''\n",
        "  Here we have initialised two lists, converting the tissue images and the annotated (labels) images\n",
        "  appending them to ‘normal_image’ and ‘annotated_image’ respectively and returning the list.\n",
        "  \n",
        "  The imported data is also being converted to numpy array \n",
        "  As well as also showing image of some of the imported data\n",
        "  '''\n",
        "\n",
        "  normal_image = []\n",
        "  annotated_image = []\n",
        "  normal_image_np = []\n",
        "  annotated_image_np = []\n",
        "\n",
        "  for image, mask in zip(sorted(NT), sorted(AM)):\n",
        "    normal_image.append(image)\n",
        "    annotated_image.append(mask)\n",
        "    normal_image_np.append(np.array(Image.open(image)))\n",
        "    annotated_image_np.append(np.array(Image.open(mask).convert('RGBA'))) \n",
        "\n",
        "  #sorting the data \n",
        "  annotated_image.sort()\n",
        "  normal_image.sort()\n",
        "\n",
        "  normal_image_ns = np.asarray(normal_image_np)\n",
        "  annotated_image_ns = np.asarray(annotated_image_np)\n",
        "\n",
        "  x = np.asarray(normal_image_ns, dtype=np.float32)/255 #  Normalization of data\n",
        "  y = np.asarray(annotated_image_ns, dtype=np.float32)/255  #  Normalization of data \n",
        "\n",
        "  # x = x.reshape(x.shape[0], x.shape[1], x.shape[2], 4)\n",
        "  # y = y.reshape(y.shape[0], y.shape[1], y.shape[2], 4) # mode=P that means it is palettised\n",
        "  \n",
        "  #plotting the dataset\n",
        "  figsize=(25,5)\n",
        "  fig, ax = plt.subplots(nrows=2, ncols=5, figsize=figsize)\n",
        "\n",
        "  #Tissue Image\n",
        "  for count,ele in enumerate(normal_image[0:5]): \n",
        "    \n",
        "    #plotting the tiusse image\n",
        "    img = mpimg.imread(ele)\n",
        "    ax[0,count].set(title = ele.split('/')[-1])\n",
        "    ax[0,count].imshow(img)\n",
        "  \n",
        "  #Annotated Image\n",
        "  for count,ele in enumerate(annotated_image[0:5]): \n",
        "    #plotting the tiusse image\n",
        "    img = mpimg.imread(ele)\n",
        "    ax[1,count].set(title = ele.split('/')[-1])\n",
        "    ax[1,count].imshow(img)\n",
        "  \n",
        "  fig.tight_layout() \n",
        "  \n",
        "  return normal_image,annotated_image,x,y"
      ],
      "execution_count": null,
      "outputs": []
    },
    {
      "cell_type": "code",
      "metadata": {
        "id": "YkWBXukXOIlC"
      },
      "source": [
        "#get data \n",
        "normal_image,annotated_image,x,y = get_data(NT,AM)"
      ],
      "execution_count": null,
      "outputs": []
    },
    {
      "cell_type": "code",
      "metadata": {
        "id": "vm1a8hoZw4hl"
      },
      "source": [
        "#data split\n",
        "def data_split(x,y,test_size):\n",
        "\n",
        "  x_train, x_val, y_train, y_val = train_test_split(x, y, test_size=test_size, random_state=1)\n",
        "\n",
        "  print(\"x_train: \", x_train.shape)\n",
        "  print(\"y_train: \", y_train.shape)\n",
        "  print(\"x_val: \", x_val.shape)\n",
        "  print(\"y_val: \", y_val.shape)\n",
        "\n",
        "  return x_train, x_val, y_train, y_val"
      ],
      "execution_count": null,
      "outputs": []
    },
    {
      "cell_type": "code",
      "metadata": {
        "id": "baSvIp19fus3",
        "outputId": "2d4499d2-2b14-406b-be16-4903104b42b7",
        "colab": {
          "base_uri": "https://localhost:8080/",
          "height": 91
        }
      },
      "source": [
        "#getting the splitted data\n",
        "\n",
        "x_train, x_val, y_train, y_val = data_split(x,y,test_size=0.2)"
      ],
      "execution_count": null,
      "outputs": [
        {
          "output_type": "stream",
          "text": [
            "x_train:  (224, 512, 512, 4)\n",
            "y_train:  (224, 512, 512, 4)\n",
            "x_val:  (56, 512, 512, 4)\n",
            "y_val:  (56, 512, 512, 4)\n"
          ],
          "name": "stdout"
        }
      ]
    },
    {
      "cell_type": "markdown",
      "metadata": {
        "id": "zXXsN5O-RvIT"
      },
      "source": [
        "## Function for creating U-Net architecture"
      ]
    },
    {
      "cell_type": "code",
      "metadata": {
        "id": "ecAdAmjZy4Lf"
      },
      "source": [
        "#convolutional block\n",
        "def conv_block(input_tensor, num_filters):\n",
        "  encoder = layers.Conv2D(num_filters, (3, 3), padding='same')(input_tensor) #conv2d layer is used here to provide i/p tensor where kernel size 3 X 3\n",
        "  encoder = layers.BatchNormalization()(encoder)\n",
        "  #encoder = layers.Dropout(0.3)(encoder) \n",
        "  encoder = layers.Activation('relu')(encoder) #activation is used here to map output of previous layer to i/p of next layer, Relu passes same output \n",
        "                                               #incase of positive i/p and passes zero in case negative i/p \n",
        "\n",
        "  encoder = layers.Conv2D(num_filters, (3, 3), padding='same')(encoder)\n",
        "  encoder = layers.BatchNormalization()(encoder)\n",
        "  #encoder = layers.Dropout(0.3)(encoder) \n",
        "  encoder = layers.Activation('relu')(encoder)\n",
        "\n",
        "  return encoder\n",
        "\n",
        "#encoder\n",
        "def encoder_block(input_tensor, num_filters):\n",
        "  encoder = conv_block(input_tensor, num_filters)\n",
        "  encoder_pool = layers.MaxPooling2D((2, 2), strides=(2, 2))(encoder) #maxpooling is used to reduce the workload of upcoming layers(downsampling)\n",
        "  encoder_pool = layers.Dropout(0.2)(encoder_pool)  #20 percent of the nodes were dropped from the next layer\n",
        "  return encoder_pool, encoder\n",
        "\n",
        "#decoder\n",
        "def decoder_block(input_tensor, concat_tensor, num_filters):\n",
        "  decoder = layers.Conv2DTranspose(num_filters, (2, 2), strides=(2, 2), padding='same')(input_tensor)# for doubling input image size(upsampling)\n",
        "  decoder = layers.concatenate([concat_tensor, decoder], axis=-1) \n",
        "  #decoder = layers.BatchNormalization()(decoder)\n",
        "  decoder = layers.Activation('relu')(decoder)\n",
        "  decoder = layers.Dropout(0.2)(decoder)\n",
        "\n",
        "  decoder = layers.Conv2D(num_filters, (3, 3), padding='same')(decoder)\n",
        "  #decoder = layers.BatchNormalization()(decoder)\n",
        "  decoder = layers.Activation('relu')(decoder)\n",
        "  decoder = layers.Dropout(0.2)(decoder)\n",
        "\n",
        "  decoder = layers.Conv2D(num_filters, (3, 3), padding='same')(decoder)\n",
        "  #decoder = layers.BatchNormalization()(decoder)\n",
        "  decoder = layers.Activation('relu')(decoder)\n",
        "  decoder = layers.Dropout(0.2)(decoder)\n",
        "  \n",
        "  return decoder"
      ],
      "execution_count": null,
      "outputs": []
    },
    {
      "cell_type": "markdown",
      "metadata": {
        "id": "Twgt-of8R9q4"
      },
      "source": [
        "## Calling U-Net functions to create architecture"
      ]
    },
    {
      "cell_type": "code",
      "metadata": {
        "id": "ZXhyKA8x0WSC"
      },
      "source": [
        "def get_unet(img_shape):\n",
        "\n",
        "#img_shape = x_train[0].shape\n",
        "\n",
        "# Downsampling path\n",
        "  inputs = layers.Input(shape=img_shape)\n",
        "  encoder0_pool, encoder0 = encoder_block(inputs,32) #32 these are feature space\n",
        "  encoder1_pool, encoder1 = encoder_block(encoder0_pool,64)\n",
        "  encoder2_pool, encoder2 = encoder_block(encoder1_pool,128)\n",
        "  encoder3_pool, encoder3 = encoder_block(encoder2_pool,256)\n",
        "  encoder4_pool, encoder4 = encoder_block(encoder3_pool,512)\n",
        "\n",
        "  #center\n",
        "  center = conv_block(encoder4_pool,1024)\n",
        "  \n",
        "# Upampling path \n",
        "  decoder4 = decoder_block(center,encoder4,512)\n",
        "  decoder3 = decoder_block(decoder4,encoder3,256)\n",
        "  decoder2 = decoder_block(decoder3,encoder2,128)\n",
        "  decoder1 = decoder_block(decoder2,encoder1,64)\n",
        "  decoder0 = decoder_block(decoder1,encoder0,32)\n",
        "\n",
        "  #output layer\n",
        "  outputs = layers.Conv2D(4,(1,1),activation='sigmoid')(decoder0)\n",
        "\n",
        "  #from keras.optimizers import Adam, SGD\n",
        "  \n",
        "  model = Model(inputs=[inputs], outputs=[outputs])\n",
        "  model.compile(loss='categorical_crossentropy', optimizer=tf.keras.optimizers.Adam(learning_rate=1e-4), metrics=['accuracy'])\n",
        "  model.summary()\n",
        "\n",
        "  return model\n",
        "\n",
        "# model.compile(loss='categorical_crossentropy', optimizer=SGD(lr=0.01, momentum=0.99), metrics=['accuracy'])\n",
        "# model.summary()\n",
        "\n",
        "\n",
        "#optimizer=SGD(lr=0.01, momentum=0.99),\n",
        "#tf.keras.optimizers.Adam(learning_rate=1e-4)\n",
        "#\"adam\""
      ],
      "execution_count": null,
      "outputs": []
    },
    {
      "cell_type": "code",
      "metadata": {
        "id": "ZYx5TtlMf_vr",
        "outputId": "1bdf739d-afd2-422a-c44d-b09c0a66fe20",
        "colab": {
          "base_uri": "https://localhost:8080/",
          "height": 1000
        }
      },
      "source": [
        "#preparing the unet model\n",
        "\n",
        "model = get_unet(img_shape=x_train[0].shape)"
      ],
      "execution_count": null,
      "outputs": [
        {
          "output_type": "stream",
          "text": [
            "Model: \"functional_1\"\n",
            "__________________________________________________________________________________________________\n",
            "Layer (type)                    Output Shape         Param #     Connected to                     \n",
            "==================================================================================================\n",
            "input_1 (InputLayer)            [(None, 512, 512, 4) 0                                            \n",
            "__________________________________________________________________________________________________\n",
            "conv2d (Conv2D)                 (None, 512, 512, 32) 1184        input_1[0][0]                    \n",
            "__________________________________________________________________________________________________\n",
            "batch_normalization (BatchNorma (None, 512, 512, 32) 128         conv2d[0][0]                     \n",
            "__________________________________________________________________________________________________\n",
            "activation (Activation)         (None, 512, 512, 32) 0           batch_normalization[0][0]        \n",
            "__________________________________________________________________________________________________\n",
            "conv2d_1 (Conv2D)               (None, 512, 512, 32) 9248        activation[0][0]                 \n",
            "__________________________________________________________________________________________________\n",
            "batch_normalization_1 (BatchNor (None, 512, 512, 32) 128         conv2d_1[0][0]                   \n",
            "__________________________________________________________________________________________________\n",
            "activation_1 (Activation)       (None, 512, 512, 32) 0           batch_normalization_1[0][0]      \n",
            "__________________________________________________________________________________________________\n",
            "max_pooling2d (MaxPooling2D)    (None, 256, 256, 32) 0           activation_1[0][0]               \n",
            "__________________________________________________________________________________________________\n",
            "dropout (Dropout)               (None, 256, 256, 32) 0           max_pooling2d[0][0]              \n",
            "__________________________________________________________________________________________________\n",
            "conv2d_2 (Conv2D)               (None, 256, 256, 64) 18496       dropout[0][0]                    \n",
            "__________________________________________________________________________________________________\n",
            "batch_normalization_2 (BatchNor (None, 256, 256, 64) 256         conv2d_2[0][0]                   \n",
            "__________________________________________________________________________________________________\n",
            "activation_2 (Activation)       (None, 256, 256, 64) 0           batch_normalization_2[0][0]      \n",
            "__________________________________________________________________________________________________\n",
            "conv2d_3 (Conv2D)               (None, 256, 256, 64) 36928       activation_2[0][0]               \n",
            "__________________________________________________________________________________________________\n",
            "batch_normalization_3 (BatchNor (None, 256, 256, 64) 256         conv2d_3[0][0]                   \n",
            "__________________________________________________________________________________________________\n",
            "activation_3 (Activation)       (None, 256, 256, 64) 0           batch_normalization_3[0][0]      \n",
            "__________________________________________________________________________________________________\n",
            "max_pooling2d_1 (MaxPooling2D)  (None, 128, 128, 64) 0           activation_3[0][0]               \n",
            "__________________________________________________________________________________________________\n",
            "dropout_1 (Dropout)             (None, 128, 128, 64) 0           max_pooling2d_1[0][0]            \n",
            "__________________________________________________________________________________________________\n",
            "conv2d_4 (Conv2D)               (None, 128, 128, 128 73856       dropout_1[0][0]                  \n",
            "__________________________________________________________________________________________________\n",
            "batch_normalization_4 (BatchNor (None, 128, 128, 128 512         conv2d_4[0][0]                   \n",
            "__________________________________________________________________________________________________\n",
            "activation_4 (Activation)       (None, 128, 128, 128 0           batch_normalization_4[0][0]      \n",
            "__________________________________________________________________________________________________\n",
            "conv2d_5 (Conv2D)               (None, 128, 128, 128 147584      activation_4[0][0]               \n",
            "__________________________________________________________________________________________________\n",
            "batch_normalization_5 (BatchNor (None, 128, 128, 128 512         conv2d_5[0][0]                   \n",
            "__________________________________________________________________________________________________\n",
            "activation_5 (Activation)       (None, 128, 128, 128 0           batch_normalization_5[0][0]      \n",
            "__________________________________________________________________________________________________\n",
            "max_pooling2d_2 (MaxPooling2D)  (None, 64, 64, 128)  0           activation_5[0][0]               \n",
            "__________________________________________________________________________________________________\n",
            "dropout_2 (Dropout)             (None, 64, 64, 128)  0           max_pooling2d_2[0][0]            \n",
            "__________________________________________________________________________________________________\n",
            "conv2d_6 (Conv2D)               (None, 64, 64, 256)  295168      dropout_2[0][0]                  \n",
            "__________________________________________________________________________________________________\n",
            "batch_normalization_6 (BatchNor (None, 64, 64, 256)  1024        conv2d_6[0][0]                   \n",
            "__________________________________________________________________________________________________\n",
            "activation_6 (Activation)       (None, 64, 64, 256)  0           batch_normalization_6[0][0]      \n",
            "__________________________________________________________________________________________________\n",
            "conv2d_7 (Conv2D)               (None, 64, 64, 256)  590080      activation_6[0][0]               \n",
            "__________________________________________________________________________________________________\n",
            "batch_normalization_7 (BatchNor (None, 64, 64, 256)  1024        conv2d_7[0][0]                   \n",
            "__________________________________________________________________________________________________\n",
            "activation_7 (Activation)       (None, 64, 64, 256)  0           batch_normalization_7[0][0]      \n",
            "__________________________________________________________________________________________________\n",
            "max_pooling2d_3 (MaxPooling2D)  (None, 32, 32, 256)  0           activation_7[0][0]               \n",
            "__________________________________________________________________________________________________\n",
            "dropout_3 (Dropout)             (None, 32, 32, 256)  0           max_pooling2d_3[0][0]            \n",
            "__________________________________________________________________________________________________\n",
            "conv2d_8 (Conv2D)               (None, 32, 32, 512)  1180160     dropout_3[0][0]                  \n",
            "__________________________________________________________________________________________________\n",
            "batch_normalization_8 (BatchNor (None, 32, 32, 512)  2048        conv2d_8[0][0]                   \n",
            "__________________________________________________________________________________________________\n",
            "activation_8 (Activation)       (None, 32, 32, 512)  0           batch_normalization_8[0][0]      \n",
            "__________________________________________________________________________________________________\n",
            "conv2d_9 (Conv2D)               (None, 32, 32, 512)  2359808     activation_8[0][0]               \n",
            "__________________________________________________________________________________________________\n",
            "batch_normalization_9 (BatchNor (None, 32, 32, 512)  2048        conv2d_9[0][0]                   \n",
            "__________________________________________________________________________________________________\n",
            "activation_9 (Activation)       (None, 32, 32, 512)  0           batch_normalization_9[0][0]      \n",
            "__________________________________________________________________________________________________\n",
            "max_pooling2d_4 (MaxPooling2D)  (None, 16, 16, 512)  0           activation_9[0][0]               \n",
            "__________________________________________________________________________________________________\n",
            "dropout_4 (Dropout)             (None, 16, 16, 512)  0           max_pooling2d_4[0][0]            \n",
            "__________________________________________________________________________________________________\n",
            "conv2d_10 (Conv2D)              (None, 16, 16, 1024) 4719616     dropout_4[0][0]                  \n",
            "__________________________________________________________________________________________________\n",
            "batch_normalization_10 (BatchNo (None, 16, 16, 1024) 4096        conv2d_10[0][0]                  \n",
            "__________________________________________________________________________________________________\n",
            "activation_10 (Activation)      (None, 16, 16, 1024) 0           batch_normalization_10[0][0]     \n",
            "__________________________________________________________________________________________________\n",
            "conv2d_11 (Conv2D)              (None, 16, 16, 1024) 9438208     activation_10[0][0]              \n",
            "__________________________________________________________________________________________________\n",
            "batch_normalization_11 (BatchNo (None, 16, 16, 1024) 4096        conv2d_11[0][0]                  \n",
            "__________________________________________________________________________________________________\n",
            "activation_11 (Activation)      (None, 16, 16, 1024) 0           batch_normalization_11[0][0]     \n",
            "__________________________________________________________________________________________________\n",
            "conv2d_transpose (Conv2DTranspo (None, 32, 32, 512)  2097664     activation_11[0][0]              \n",
            "__________________________________________________________________________________________________\n",
            "concatenate (Concatenate)       (None, 32, 32, 1024) 0           activation_9[0][0]               \n",
            "                                                                 conv2d_transpose[0][0]           \n",
            "__________________________________________________________________________________________________\n",
            "activation_12 (Activation)      (None, 32, 32, 1024) 0           concatenate[0][0]                \n",
            "__________________________________________________________________________________________________\n",
            "dropout_5 (Dropout)             (None, 32, 32, 1024) 0           activation_12[0][0]              \n",
            "__________________________________________________________________________________________________\n",
            "conv2d_12 (Conv2D)              (None, 32, 32, 512)  4719104     dropout_5[0][0]                  \n",
            "__________________________________________________________________________________________________\n",
            "activation_13 (Activation)      (None, 32, 32, 512)  0           conv2d_12[0][0]                  \n",
            "__________________________________________________________________________________________________\n",
            "dropout_6 (Dropout)             (None, 32, 32, 512)  0           activation_13[0][0]              \n",
            "__________________________________________________________________________________________________\n",
            "conv2d_13 (Conv2D)              (None, 32, 32, 512)  2359808     dropout_6[0][0]                  \n",
            "__________________________________________________________________________________________________\n",
            "activation_14 (Activation)      (None, 32, 32, 512)  0           conv2d_13[0][0]                  \n",
            "__________________________________________________________________________________________________\n",
            "dropout_7 (Dropout)             (None, 32, 32, 512)  0           activation_14[0][0]              \n",
            "__________________________________________________________________________________________________\n",
            "conv2d_transpose_1 (Conv2DTrans (None, 64, 64, 256)  524544      dropout_7[0][0]                  \n",
            "__________________________________________________________________________________________________\n",
            "concatenate_1 (Concatenate)     (None, 64, 64, 512)  0           activation_7[0][0]               \n",
            "                                                                 conv2d_transpose_1[0][0]         \n",
            "__________________________________________________________________________________________________\n",
            "activation_15 (Activation)      (None, 64, 64, 512)  0           concatenate_1[0][0]              \n",
            "__________________________________________________________________________________________________\n",
            "dropout_8 (Dropout)             (None, 64, 64, 512)  0           activation_15[0][0]              \n",
            "__________________________________________________________________________________________________\n",
            "conv2d_14 (Conv2D)              (None, 64, 64, 256)  1179904     dropout_8[0][0]                  \n",
            "__________________________________________________________________________________________________\n",
            "activation_16 (Activation)      (None, 64, 64, 256)  0           conv2d_14[0][0]                  \n",
            "__________________________________________________________________________________________________\n",
            "dropout_9 (Dropout)             (None, 64, 64, 256)  0           activation_16[0][0]              \n",
            "__________________________________________________________________________________________________\n",
            "conv2d_15 (Conv2D)              (None, 64, 64, 256)  590080      dropout_9[0][0]                  \n",
            "__________________________________________________________________________________________________\n",
            "activation_17 (Activation)      (None, 64, 64, 256)  0           conv2d_15[0][0]                  \n",
            "__________________________________________________________________________________________________\n",
            "dropout_10 (Dropout)            (None, 64, 64, 256)  0           activation_17[0][0]              \n",
            "__________________________________________________________________________________________________\n",
            "conv2d_transpose_2 (Conv2DTrans (None, 128, 128, 128 131200      dropout_10[0][0]                 \n",
            "__________________________________________________________________________________________________\n",
            "concatenate_2 (Concatenate)     (None, 128, 128, 256 0           activation_5[0][0]               \n",
            "                                                                 conv2d_transpose_2[0][0]         \n",
            "__________________________________________________________________________________________________\n",
            "activation_18 (Activation)      (None, 128, 128, 256 0           concatenate_2[0][0]              \n",
            "__________________________________________________________________________________________________\n",
            "dropout_11 (Dropout)            (None, 128, 128, 256 0           activation_18[0][0]              \n",
            "__________________________________________________________________________________________________\n",
            "conv2d_16 (Conv2D)              (None, 128, 128, 128 295040      dropout_11[0][0]                 \n",
            "__________________________________________________________________________________________________\n",
            "activation_19 (Activation)      (None, 128, 128, 128 0           conv2d_16[0][0]                  \n",
            "__________________________________________________________________________________________________\n",
            "dropout_12 (Dropout)            (None, 128, 128, 128 0           activation_19[0][0]              \n",
            "__________________________________________________________________________________________________\n",
            "conv2d_17 (Conv2D)              (None, 128, 128, 128 147584      dropout_12[0][0]                 \n",
            "__________________________________________________________________________________________________\n",
            "activation_20 (Activation)      (None, 128, 128, 128 0           conv2d_17[0][0]                  \n",
            "__________________________________________________________________________________________________\n",
            "dropout_13 (Dropout)            (None, 128, 128, 128 0           activation_20[0][0]              \n",
            "__________________________________________________________________________________________________\n",
            "conv2d_transpose_3 (Conv2DTrans (None, 256, 256, 64) 32832       dropout_13[0][0]                 \n",
            "__________________________________________________________________________________________________\n",
            "concatenate_3 (Concatenate)     (None, 256, 256, 128 0           activation_3[0][0]               \n",
            "                                                                 conv2d_transpose_3[0][0]         \n",
            "__________________________________________________________________________________________________\n",
            "activation_21 (Activation)      (None, 256, 256, 128 0           concatenate_3[0][0]              \n",
            "__________________________________________________________________________________________________\n",
            "dropout_14 (Dropout)            (None, 256, 256, 128 0           activation_21[0][0]              \n",
            "__________________________________________________________________________________________________\n",
            "conv2d_18 (Conv2D)              (None, 256, 256, 64) 73792       dropout_14[0][0]                 \n",
            "__________________________________________________________________________________________________\n",
            "activation_22 (Activation)      (None, 256, 256, 64) 0           conv2d_18[0][0]                  \n",
            "__________________________________________________________________________________________________\n",
            "dropout_15 (Dropout)            (None, 256, 256, 64) 0           activation_22[0][0]              \n",
            "__________________________________________________________________________________________________\n",
            "conv2d_19 (Conv2D)              (None, 256, 256, 64) 36928       dropout_15[0][0]                 \n",
            "__________________________________________________________________________________________________\n",
            "activation_23 (Activation)      (None, 256, 256, 64) 0           conv2d_19[0][0]                  \n",
            "__________________________________________________________________________________________________\n",
            "dropout_16 (Dropout)            (None, 256, 256, 64) 0           activation_23[0][0]              \n",
            "__________________________________________________________________________________________________\n",
            "conv2d_transpose_4 (Conv2DTrans (None, 512, 512, 32) 8224        dropout_16[0][0]                 \n",
            "__________________________________________________________________________________________________\n",
            "concatenate_4 (Concatenate)     (None, 512, 512, 64) 0           activation_1[0][0]               \n",
            "                                                                 conv2d_transpose_4[0][0]         \n",
            "__________________________________________________________________________________________________\n",
            "activation_24 (Activation)      (None, 512, 512, 64) 0           concatenate_4[0][0]              \n",
            "__________________________________________________________________________________________________\n",
            "dropout_17 (Dropout)            (None, 512, 512, 64) 0           activation_24[0][0]              \n",
            "__________________________________________________________________________________________________\n",
            "conv2d_20 (Conv2D)              (None, 512, 512, 32) 18464       dropout_17[0][0]                 \n",
            "__________________________________________________________________________________________________\n",
            "activation_25 (Activation)      (None, 512, 512, 32) 0           conv2d_20[0][0]                  \n",
            "__________________________________________________________________________________________________\n",
            "dropout_18 (Dropout)            (None, 512, 512, 32) 0           activation_25[0][0]              \n",
            "__________________________________________________________________________________________________\n",
            "conv2d_21 (Conv2D)              (None, 512, 512, 32) 9248        dropout_18[0][0]                 \n",
            "__________________________________________________________________________________________________\n",
            "activation_26 (Activation)      (None, 512, 512, 32) 0           conv2d_21[0][0]                  \n",
            "__________________________________________________________________________________________________\n",
            "dropout_19 (Dropout)            (None, 512, 512, 32) 0           activation_26[0][0]              \n",
            "__________________________________________________________________________________________________\n",
            "conv2d_22 (Conv2D)              (None, 512, 512, 4)  132         dropout_19[0][0]                 \n",
            "==================================================================================================\n",
            "Total params: 31,111,012\n",
            "Trainable params: 31,102,948\n",
            "Non-trainable params: 8,064\n",
            "__________________________________________________________________________________________________\n"
          ],
          "name": "stdout"
        }
      ]
    },
    {
      "cell_type": "markdown",
      "metadata": {
        "id": "fpGEAZ4GTKXi"
      },
      "source": [
        "## **Model Training**"
      ]
    },
    {
      "cell_type": "code",
      "metadata": {
        "id": "tGFkdGrH2kwz"
      },
      "source": [
        "def train(model,x_train, y_train):\n",
        "\n",
        "  es = tf.keras.callbacks.EarlyStopping(monitor='val_loss', mode = 'min', patience=8)\n",
        "  #mc = tf.keras.callbacks.ModelCheckpoint('NTAMmodel.h5', monitor='val_accuracy',mode = 'max', verbose=1, save_best_only=True)\n",
        "\n",
        "  history = model.fit(x=x_train, y=y_train,batch_size=8,callbacks = es,epochs=50, verbose=1, validation_split=0.2)\n",
        "\n",
        "  return history"
      ],
      "execution_count": null,
      "outputs": []
    },
    {
      "cell_type": "code",
      "metadata": {
        "id": "CmyAf6JDh83A",
        "outputId": "8bb18e04-b727-458e-cf02-4f0372be28b3",
        "colab": {
          "base_uri": "https://localhost:8080/",
          "height": 1000
        }
      },
      "source": [
        "#training the models\n",
        "history = train(model=model,x_train=x_train,y_train=y_train)"
      ],
      "execution_count": null,
      "outputs": [
        {
          "output_type": "stream",
          "text": [
            "Epoch 1/50\n",
            "23/23 [==============================] - 53s 2s/step - loss: 2.8443 - accuracy: 0.1193 - val_loss: 2.8609 - val_accuracy: 0.0260\n",
            "Epoch 2/50\n",
            "23/23 [==============================] - 40s 2s/step - loss: 2.1766 - accuracy: 0.3655 - val_loss: 2.6743 - val_accuracy: 0.1211\n",
            "Epoch 3/50\n",
            "23/23 [==============================] - 40s 2s/step - loss: 2.0073 - accuracy: 0.3737 - val_loss: 2.4017 - val_accuracy: 0.0901\n",
            "Epoch 4/50\n",
            "23/23 [==============================] - 40s 2s/step - loss: 1.9412 - accuracy: 0.3509 - val_loss: 2.3214 - val_accuracy: 0.0268\n",
            "Epoch 5/50\n",
            "23/23 [==============================] - 40s 2s/step - loss: 1.8978 - accuracy: 0.3207 - val_loss: 2.2243 - val_accuracy: 0.0260\n",
            "Epoch 6/50\n",
            "23/23 [==============================] - 40s 2s/step - loss: 1.9493 - accuracy: 0.2822 - val_loss: 2.3796 - val_accuracy: 0.0257\n",
            "Epoch 7/50\n",
            "23/23 [==============================] - 40s 2s/step - loss: 1.8974 - accuracy: 0.2725 - val_loss: 2.1294 - val_accuracy: 0.0256\n",
            "Epoch 8/50\n",
            "23/23 [==============================] - 40s 2s/step - loss: 1.8612 - accuracy: 0.2675 - val_loss: 2.1717 - val_accuracy: 0.0256\n",
            "Epoch 9/50\n",
            "23/23 [==============================] - 40s 2s/step - loss: 1.8450 - accuracy: 0.2631 - val_loss: 2.2506 - val_accuracy: 0.0256\n",
            "Epoch 10/50\n",
            "23/23 [==============================] - 40s 2s/step - loss: 1.8271 - accuracy: 0.2475 - val_loss: 2.2673 - val_accuracy: 0.0256\n",
            "Epoch 11/50\n",
            "23/23 [==============================] - 40s 2s/step - loss: 1.8144 - accuracy: 0.2373 - val_loss: 2.0439 - val_accuracy: 0.0256\n",
            "Epoch 12/50\n",
            "23/23 [==============================] - 40s 2s/step - loss: 1.8262 - accuracy: 0.2392 - val_loss: 2.0979 - val_accuracy: 0.0256\n",
            "Epoch 13/50\n",
            "23/23 [==============================] - 40s 2s/step - loss: 1.8407 - accuracy: 0.2306 - val_loss: 1.9387 - val_accuracy: 0.0256\n",
            "Epoch 14/50\n",
            "23/23 [==============================] - 40s 2s/step - loss: 1.8122 - accuracy: 0.2257 - val_loss: 1.9030 - val_accuracy: 0.0256\n",
            "Epoch 15/50\n",
            "23/23 [==============================] - 40s 2s/step - loss: 1.8002 - accuracy: 0.2195 - val_loss: 1.8872 - val_accuracy: 0.0257\n",
            "Epoch 16/50\n",
            "23/23 [==============================] - 40s 2s/step - loss: 1.7864 - accuracy: 0.2188 - val_loss: 1.8941 - val_accuracy: 0.0258\n",
            "Epoch 17/50\n",
            "23/23 [==============================] - 40s 2s/step - loss: 1.7839 - accuracy: 0.2148 - val_loss: 1.8929 - val_accuracy: 0.0258\n",
            "Epoch 18/50\n",
            "23/23 [==============================] - 40s 2s/step - loss: 1.8022 - accuracy: 0.2102 - val_loss: 1.8868 - val_accuracy: 0.0258\n",
            "Epoch 19/50\n",
            "23/23 [==============================] - 40s 2s/step - loss: 1.7931 - accuracy: 0.2100 - val_loss: 1.8646 - val_accuracy: 0.0258\n",
            "Epoch 20/50\n",
            "23/23 [==============================] - 39s 2s/step - loss: 1.8036 - accuracy: 0.2104 - val_loss: 2.0092 - val_accuracy: 0.0258\n",
            "Epoch 21/50\n",
            "23/23 [==============================] - 40s 2s/step - loss: 1.8185 - accuracy: 0.2102 - val_loss: 2.1432 - val_accuracy: 0.0259\n",
            "Epoch 22/50\n",
            "23/23 [==============================] - 40s 2s/step - loss: 1.7929 - accuracy: 0.2146 - val_loss: 2.0979 - val_accuracy: 0.0258\n",
            "Epoch 23/50\n",
            "23/23 [==============================] - 40s 2s/step - loss: 1.7852 - accuracy: 0.2115 - val_loss: 1.8431 - val_accuracy: 0.0258\n",
            "Epoch 24/50\n",
            "23/23 [==============================] - 40s 2s/step - loss: 1.7964 - accuracy: 0.2026 - val_loss: 1.8464 - val_accuracy: 0.0258\n",
            "Epoch 25/50\n",
            "23/23 [==============================] - 40s 2s/step - loss: 1.7726 - accuracy: 0.2012 - val_loss: 1.8126 - val_accuracy: 0.0258\n",
            "Epoch 26/50\n",
            "23/23 [==============================] - 40s 2s/step - loss: 1.7868 - accuracy: 0.2033 - val_loss: 1.8231 - val_accuracy: 0.0258\n",
            "Epoch 27/50\n",
            "23/23 [==============================] - 40s 2s/step - loss: 1.7645 - accuracy: 0.1994 - val_loss: 1.8197 - val_accuracy: 0.0256\n",
            "Epoch 28/50\n",
            "23/23 [==============================] - 40s 2s/step - loss: 1.7745 - accuracy: 0.1967 - val_loss: 1.8365 - val_accuracy: 0.0256\n",
            "Epoch 29/50\n",
            "23/23 [==============================] - 40s 2s/step - loss: 1.7857 - accuracy: 0.1932 - val_loss: 1.7985 - val_accuracy: 0.0257\n",
            "Epoch 30/50\n",
            "23/23 [==============================] - 40s 2s/step - loss: 1.7595 - accuracy: 0.1967 - val_loss: 1.7930 - val_accuracy: 0.0256\n",
            "Epoch 31/50\n",
            "23/23 [==============================] - 40s 2s/step - loss: 1.7594 - accuracy: 0.1959 - val_loss: 1.8578 - val_accuracy: 0.0253\n",
            "Epoch 32/50\n",
            "23/23 [==============================] - 40s 2s/step - loss: 1.7477 - accuracy: 0.1953 - val_loss: 1.8616 - val_accuracy: 0.0249\n",
            "Epoch 33/50\n",
            "23/23 [==============================] - 40s 2s/step - loss: 1.7448 - accuracy: 0.1825 - val_loss: 1.7936 - val_accuracy: 0.0254\n",
            "Epoch 34/50\n",
            "23/23 [==============================] - 40s 2s/step - loss: 1.7342 - accuracy: 0.1917 - val_loss: 1.7987 - val_accuracy: 0.0252\n",
            "Epoch 35/50\n",
            "23/23 [==============================] - 40s 2s/step - loss: 1.7497 - accuracy: 0.1925 - val_loss: 1.8011 - val_accuracy: 0.0253\n",
            "Epoch 36/50\n",
            "23/23 [==============================] - 40s 2s/step - loss: 1.7439 - accuracy: 0.1961 - val_loss: 1.8627 - val_accuracy: 0.0255\n",
            "Epoch 37/50\n",
            "23/23 [==============================] - 40s 2s/step - loss: 1.7352 - accuracy: 0.1899 - val_loss: 1.8478 - val_accuracy: 0.0257\n",
            "Epoch 38/50\n",
            "23/23 [==============================] - 40s 2s/step - loss: 1.7279 - accuracy: 0.1952 - val_loss: 1.8540 - val_accuracy: 0.0257\n"
          ],
          "name": "stdout"
        }
      ]
    },
    {
      "cell_type": "markdown",
      "metadata": {
        "id": "oGFTyHtOTWwb"
      },
      "source": [
        "## **Model Evaluation**"
      ]
    },
    {
      "cell_type": "code",
      "metadata": {
        "id": "KfmxXYFjklL-",
        "outputId": "1aba791d-265d-4085-ab67-814116bcb352",
        "colab": {
          "base_uri": "https://localhost:8080/",
          "height": 35
        }
      },
      "source": [
        "#evaluating the model\n",
        "score = model.evaluate(x=x_val, y=y_val, verbose=1)"
      ],
      "execution_count": null,
      "outputs": [
        {
          "output_type": "stream",
          "text": [
            "2/2 [==============================] - 1s 647ms/step - loss: 1.8302 - accuracy: 0.0715\n"
          ],
          "name": "stdout"
        }
      ]
    },
    {
      "cell_type": "markdown",
      "metadata": {
        "id": "4rY25g7PTfGd"
      },
      "source": [
        "## **Ploting History**"
      ]
    },
    {
      "cell_type": "code",
      "metadata": {
        "id": "6NJ8OTHJ4Fp5"
      },
      "source": [
        "def plot_history(history,score):\n",
        "  \n",
        "  print(\"Test Score:\", score[0])\n",
        "  print(\"Test Accuracy:\", score[1])\n",
        "\n",
        "  plt.plot(history.history['accuracy'])\n",
        "  plt.plot(history.history['val_accuracy'])\n",
        "\n",
        "  plt.title('model accuracy')\n",
        "  plt.ylabel('accuracy')\n",
        "  plt.xlabel('epoch')\n",
        "  plt.legend(['train','test'], loc='upper left')\n",
        "  plt.show()\n",
        "  plt.savefig('Accuracy.png')\n",
        "\n",
        "  plt.plot(history.history['loss'])\n",
        "  plt.plot(history.history['val_loss'])\n",
        "\n",
        "  plt.title('model loss')\n",
        "  plt.ylabel('loss')\n",
        "  plt.xlabel('epoch')\n",
        "  plt.legend(['train','test'], loc='upper left')\n",
        "  plt.show()\n",
        "  plt.savefig('Loss.png')"
      ],
      "execution_count": null,
      "outputs": []
    },
    {
      "cell_type": "code",
      "metadata": {
        "id": "avTzozD9nInA"
      },
      "source": [
        " #plotting the hostory\n",
        "plot_history(history,score)"
      ],
      "execution_count": null,
      "outputs": []
    },
    {
      "cell_type": "markdown",
      "metadata": {
        "id": "yrXP5WlPTlKy"
      },
      "source": [
        "## **Model Prediction**"
      ]
    },
    {
      "cell_type": "code",
      "metadata": {
        "id": "hDJyHCjimO6E"
      },
      "source": [
        "#predition\n",
        "y_pred = model.predict(x_val)"
      ],
      "execution_count": null,
      "outputs": []
    },
    {
      "cell_type": "code",
      "metadata": {
        "id": "AzBaiZ-JgBP8"
      },
      "source": [
        "#dice coefficient\n",
        "def dice_coeff(y_true, y_pred, smooth = 1):\n",
        "\n",
        "  y_true_f = tf.reshape(y_val,[-1])\n",
        "  y_pred_f = tf.reshape(y_pred,[-1])\n",
        "  intersection = tf.reduce_sum(y_true_f * y_pred_f )\n",
        "  score = (2. * intersection + smooth) / (tf.reduce_sum(y_true_f) + tf.reduce_sum(y_pred_f) + smooth)\n",
        "\n",
        "  return score"
      ],
      "execution_count": null,
      "outputs": []
    },
    {
      "cell_type": "code",
      "metadata": {
        "id": "isXEngrygvwq",
        "outputId": "99e16e74-eaeb-43ba-b376-f68a8ca71d0b",
        "colab": {
          "base_uri": "https://localhost:8080/",
          "height": 35
        }
      },
      "source": [
        "score = dice_coeff(y_val, y_pred, smooth = 1)\n",
        "print(score)"
      ],
      "execution_count": null,
      "outputs": [
        {
          "output_type": "stream",
          "text": [
            "tf.Tensor(0.90060884, shape=(), dtype=float32)\n"
          ],
          "name": "stdout"
        }
      ]
    },
    {
      "cell_type": "code",
      "metadata": {
        "id": "ETAs4qyyeU2F"
      },
      "source": [
        "plt.imshow(x_val[2])"
      ],
      "execution_count": null,
      "outputs": []
    },
    {
      "cell_type": "code",
      "metadata": {
        "id": "gEm-KssBl_n3"
      },
      "source": [
        "plt.imshow(y_val[2])"
      ],
      "execution_count": null,
      "outputs": []
    },
    {
      "cell_type": "code",
      "metadata": {
        "id": "A5h-KG20eO9K"
      },
      "source": [
        "plt.imshow(y_pred[2])"
      ],
      "execution_count": null,
      "outputs": []
    },
    {
      "cell_type": "markdown",
      "metadata": {
        "id": "X1mtkD6TTsM_"
      },
      "source": [
        "## **Plotting the Images**"
      ]
    },
    {
      "cell_type": "code",
      "metadata": {
        "id": "gbePmZJe-nlF"
      },
      "source": [
        "def plot_imgs(org_imgs, mask_imgs,pred_imgs=None,nm_img_to_plot=15,figsize=4,alpha=0.5):\n",
        "    '''\n",
        "    Image plotting for semantic segmentation data.\n",
        "    Last column is always an overlay of ground truth or prediction\n",
        "    depending on what was provided as arguments.\n",
        "    '''\n",
        "    if nm_img_to_plot > org_imgs.shape[0]:\n",
        "        nm_img_to_plot = org_imgs.shape[0]\n",
        "    im_id = 0\n",
        "    org_imgs_size = org_imgs.shape[1]\n",
        "\n",
        "    org_imgs = reshape_arr(org_imgs)\n",
        "    mask_imgs = reshape_arr(mask_imgs)\n",
        "    if  not (pred_imgs is None):\n",
        "        cols = 4\n",
        "        pred_imgs = reshape_arr(pred_imgs)\n",
        "    else:\n",
        "        cols = 3\n",
        "\n",
        "        \n",
        "    fig, axes = plt.subplots(nm_img_to_plot, cols, figsize=(cols*figsize, nm_img_to_plot*figsize))\n",
        "    axes[0, 0].set_title(\"original\", fontsize=15) \n",
        "    axes[0, 1].set_title(\"ground truth\", fontsize=15)\n",
        "    if not (pred_imgs is None):\n",
        "        axes[0, 2].set_title(\"prediction\", fontsize=15) \n",
        "        axes[0, 3].set_title(\"overlay\", fontsize=15) \n",
        "    else:\n",
        "        axes[0, 2].set_title(\"overlay\", fontsize=15) \n",
        "    for m in range(0, nm_img_to_plot):\n",
        "        axes[m, 0].imshow(org_imgs[im_id]) #, cmap=get_cmap(org_imgs)\n",
        "        axes[m, 0].set_axis_off()\n",
        "        axes[m, 1].imshow(mask_imgs[im_id]) #, cmap=get_cmap(mask_imgs)\n",
        "        axes[m, 1].set_axis_off()        \n",
        "        if not (pred_imgs is None):\n",
        "            axes[m, 2].imshow(pred_imgs[im_id]) #, cmap=get_cmap(pred_imgs)\n",
        "            axes[m, 2].set_axis_off()\n",
        "            axes[m, 3].imshow(org_imgs[im_id]) #,cmap=get_cmap(org_imgs)\n",
        "            axes[m, 3].imshow(pred_imgs[im_id])\n",
        "            axes[m, 3].set_axis_off()\n",
        "        else:\n",
        "            axes[m, 2].imshow(org_imgs[im_id], cmap=get_cmap(org_imgs))\n",
        "            axes[m, 2].imshow(mask_imgs[im_id])\n",
        "            axes[m, 2].set_axis_off()\n",
        "        im_id += 1\n",
        "\n",
        "    plt.show()\n",
        "  \n",
        "def reshape_arr(arr):\n",
        "    if arr.ndim == 3:\n",
        "        return arr\n",
        "    elif arr.ndim == 4:\n",
        "        if arr.shape[3] == 4:\n",
        "            return arr\n",
        "        elif arr.shape[3] == 1:\n",
        "            return arr.reshape(arr.shape[0], arr.shape[1], arr.shape[2],4)"
      ],
      "execution_count": null,
      "outputs": []
    },
    {
      "cell_type": "code",
      "metadata": {
        "id": "KdRdO37tsgYT"
      },
      "source": [
        "plot_imgs(org_imgs=x_val, mask_imgs=y_val, pred_imgs=y_pred, nm_img_to_plot=15) #d=0.2,e=50 "
      ],
      "execution_count": null,
      "outputs": []
    },
    {
      "cell_type": "code",
      "metadata": {
        "id": "Nc0uGSyaGHPi"
      },
      "source": [
        "plot_imgs(org_imgs=x_val, mask_imgs=y_val, pred_imgs=y_pred, nm_img_to_plot=15) #d=0.2,e=50 "
      ],
      "execution_count": null,
      "outputs": []
    },
    {
      "cell_type": "code",
      "metadata": {
        "id": "PQEu0qHBWH18"
      },
      "source": [
        "plot_imgs(org_imgs=x_val, mask_imgs=y_val, pred_imgs=y_pred, nm_img_to_plot=15) #d=0.2,e=50 "
      ],
      "execution_count": null,
      "outputs": []
    },
    {
      "cell_type": "code",
      "metadata": {
        "id": "vw3GWTKl9fCe"
      },
      "source": [
        "plot_imgs(org_imgs=x_val, mask_imgs=y_val, pred_imgs=y_pred, nm_img_to_plot=15) #d=0.2,e=50 "
      ],
      "execution_count": null,
      "outputs": []
    },
    {
      "cell_type": "code",
      "metadata": {
        "id": "H6EaHxXkn6Xp"
      },
      "source": [
        "plot_imgs(org_imgs=x_val, mask_imgs=y_val, pred_imgs=y_pred, nm_img_to_plot=15) #d=0.2,e=50 "
      ],
      "execution_count": null,
      "outputs": []
    },
    {
      "cell_type": "code",
      "metadata": {
        "id": "k82ciZ_ETZGl"
      },
      "source": [
        "plot_imgs(org_imgs=x_val, mask_imgs=y_val, pred_imgs=y_pred, nm_img_to_plot=15) #d=0.2,e=50 "
      ],
      "execution_count": null,
      "outputs": []
    },
    {
      "cell_type": "code",
      "metadata": {
        "id": "C5YWpecmQ3q2"
      },
      "source": [
        "plot_imgs(org_imgs=x_val, mask_imgs=y_val, pred_imgs=y_pred, nm_img_to_plot=15) #d=0.2,e=50 with BN(batch normalisation in decoder)"
      ],
      "execution_count": null,
      "outputs": []
    },
    {
      "cell_type": "code",
      "metadata": {
        "id": "fr-Kp7mPHoXf"
      },
      "source": [
        "plot_imgs(org_imgs=x_val, mask_imgs=y_val, pred_imgs=y_pred, nm_img_to_plot=15) #d=0.2,e=50"
      ],
      "execution_count": null,
      "outputs": []
    },
    {
      "cell_type": "code",
      "metadata": {
        "id": "Y4K1het9GiYo"
      },
      "source": [
        "plot_imgs(org_imgs=x_val, mask_imgs=y_val, pred_imgs=y_pred, nm_img_to_plot=15) #d=0.2,e=30"
      ],
      "execution_count": null,
      "outputs": []
    },
    {
      "cell_type": "code",
      "metadata": {
        "id": "pLGJW39eBvfx"
      },
      "source": [
        "plot_imgs(org_imgs=x_val, mask_imgs=y_val, pred_imgs=y_pred, nm_img_to_plot=15)"
      ],
      "execution_count": null,
      "outputs": []
    },
    {
      "cell_type": "code",
      "metadata": {
        "id": "SKUryNNB-Cnm"
      },
      "source": [
        "plot_imgs(org_imgs=x_val, mask_imgs=y_val, pred_imgs=y_pred, nm_img_to_plot=15)"
      ],
      "execution_count": null,
      "outputs": []
    },
    {
      "cell_type": "code",
      "metadata": {
        "id": "-eXnGT1c642n"
      },
      "source": [
        "plot_imgs(org_imgs=x_val, mask_imgs=y_val, pred_imgs=y_pred, nm_img_to_plot=15)"
      ],
      "execution_count": null,
      "outputs": []
    },
    {
      "cell_type": "code",
      "metadata": {
        "id": "zWj5YAjm45bL"
      },
      "source": [
        "plot_imgs(org_imgs=x_val, mask_imgs=y_val, pred_imgs=y_pred, nm_img_to_plot=15)"
      ],
      "execution_count": null,
      "outputs": []
    },
    {
      "cell_type": "code",
      "metadata": {
        "id": "4CDmF7-b2pL_"
      },
      "source": [
        "plot_imgs(org_imgs=x_val, mask_imgs=y_val, pred_imgs=y_pred, nm_img_to_plot=15)"
      ],
      "execution_count": null,
      "outputs": []
    },
    {
      "cell_type": "code",
      "metadata": {
        "id": "Y33Mw78h0NMK"
      },
      "source": [
        "plot_imgs(org_imgs=x_val, mask_imgs=y_val, pred_imgs=y_pred, nm_img_to_plot=15)"
      ],
      "execution_count": null,
      "outputs": []
    },
    {
      "cell_type": "code",
      "metadata": {
        "id": "OpTwj9W6wySL"
      },
      "source": [
        "plot_imgs(org_imgs=x_val, mask_imgs=y_val, pred_imgs=y_pred, nm_img_to_plot=15)"
      ],
      "execution_count": null,
      "outputs": []
    },
    {
      "cell_type": "code",
      "metadata": {
        "id": "JbGCd6v4uKc9"
      },
      "source": [
        "plot_imgs(org_imgs=x_val, mask_imgs=y_val, pred_imgs=y_pred, nm_img_to_plot=15)"
      ],
      "execution_count": null,
      "outputs": []
    },
    {
      "cell_type": "code",
      "metadata": {
        "id": "0y6YDP32mEAP"
      },
      "source": [
        "plot_imgs(org_imgs=x_val, mask_imgs=y_val, pred_imgs=y_pred, nm_img_to_plot=15) #when dropout was present in conv2D"
      ],
      "execution_count": null,
      "outputs": []
    },
    {
      "cell_type": "code",
      "metadata": {
        "id": "w1fQ4Lxz-usE"
      },
      "source": [
        "plot_imgs(org_imgs=x_val, mask_imgs=y_val, pred_imgs=y_pred, nm_img_to_plot=15)"
      ],
      "execution_count": null,
      "outputs": []
    },
    {
      "cell_type": "code",
      "metadata": {
        "id": "O52rkq4eHyKq"
      },
      "source": [
        "plot_imgs(org_imgs=x_val, mask_imgs=y_val, pred_imgs=y_pred, nm_img_to_plot=15)"
      ],
      "execution_count": null,
      "outputs": []
    },
    {
      "cell_type": "code",
      "metadata": {
        "id": "38gdor6I7S2S"
      },
      "source": [
        ""
      ],
      "execution_count": null,
      "outputs": []
    },
    {
      "cell_type": "code",
      "metadata": {
        "id": "4xFP4y7C7S48"
      },
      "source": [
        ""
      ],
      "execution_count": null,
      "outputs": []
    },
    {
      "cell_type": "code",
      "metadata": {
        "id": "1pFR7F_I7S8d"
      },
      "source": [
        ""
      ],
      "execution_count": null,
      "outputs": []
    }
  ]
}